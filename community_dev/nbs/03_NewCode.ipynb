{
 "cells": [
  {
   "cell_type": "code",
   "execution_count": 6,
   "metadata": {},
   "outputs": [],
   "source": [
    "from whatsapp_parser import WhatsAppGroupAnalysis as wga\n",
    "from whatsapp_parser import extract_messages"
   ]
  },
  {
   "cell_type": "code",
   "execution_count": 7,
   "metadata": {},
   "outputs": [],
   "source": [
    "df = extract_messages('_chat.txt')"
   ]
  },
  {
   "cell_type": "code",
   "execution_count": 8,
   "metadata": {},
   "outputs": [
    {
     "data": {
      "text/html": [
       "<div>\n",
       "<style scoped>\n",
       "    .dataframe tbody tr th:only-of-type {\n",
       "        vertical-align: middle;\n",
       "    }\n",
       "\n",
       "    .dataframe tbody tr th {\n",
       "        vertical-align: top;\n",
       "    }\n",
       "\n",
       "    .dataframe thead th {\n",
       "        text-align: right;\n",
       "    }\n",
       "</style>\n",
       "<table border=\"1\" class=\"dataframe\">\n",
       "  <thead>\n",
       "    <tr style=\"text-align: right;\">\n",
       "      <th></th>\n",
       "      <th>Sender</th>\n",
       "      <th>Datetime</th>\n",
       "      <th>Message</th>\n",
       "    </tr>\n",
       "  </thead>\n",
       "  <tbody>\n",
       "    <tr>\n",
       "      <th>0</th>\n",
       "      <td>The GenerativeAI Group</td>\n",
       "      <td>2023-03-01 14:09:55</td>\n",
       "      <td>‎Messages and calls are end-to-end encrypted. ...</td>\n",
       "    </tr>\n",
       "    <tr>\n",
       "      <th>1</th>\n",
       "      <td>The GenerativeAI Group</td>\n",
       "      <td>2023-03-01 14:09:55</td>\n",
       "      <td>‎You created group “GenerativeAI/DeepMedia”</td>\n",
       "    </tr>\n",
       "    <tr>\n",
       "      <th>2</th>\n",
       "      <td>The GenerativeAI Group</td>\n",
       "      <td>2023-03-01 14:09:55</td>\n",
       "      <td>‎‎‎Disappearing messages were turned on. ‎New ...</td>\n",
       "    </tr>\n",
       "    <tr>\n",
       "      <th>3</th>\n",
       "      <td>Kaushik Bokka</td>\n",
       "      <td>2023-03-01 14:11:29</td>\n",
       "      <td>‎Kaushik Bokka joined using this group's invit...</td>\n",
       "    </tr>\n",
       "    <tr>\n",
       "      <th>4</th>\n",
       "      <td>Ravi Theja</td>\n",
       "      <td>2023-03-01 14:11:31</td>\n",
       "      <td>‎Ravi Theja joined using this group's invite link</td>\n",
       "    </tr>\n",
       "    <tr>\n",
       "      <th>...</th>\n",
       "      <td>...</td>\n",
       "      <td>...</td>\n",
       "      <td>...</td>\n",
       "    </tr>\n",
       "    <tr>\n",
       "      <th>24395</th>\n",
       "      <td>~ Nayan Shah</td>\n",
       "      <td>2023-10-01 00:37:37</td>\n",
       "      <td>Or just show picture of zuck beating elon 😂😂</td>\n",
       "    </tr>\n",
       "    <tr>\n",
       "      <th>24396</th>\n",
       "      <td>Bharat Shetty GenAI WhatsApp Group</td>\n",
       "      <td>2023-10-01 09:51:07</td>\n",
       "      <td>Waiting to see what ASR/STT they are planning ...</td>\n",
       "    </tr>\n",
       "    <tr>\n",
       "      <th>24397</th>\n",
       "      <td>Digvijay GenAI Group</td>\n",
       "      <td>2023-10-01 10:17:27</td>\n",
       "      <td>https://www.cst.cam.ac.uk/research/srg/project...</td>\n",
       "    </tr>\n",
       "    <tr>\n",
       "      <th>24398</th>\n",
       "      <td>Nirant K</td>\n",
       "      <td>2023-10-01 11:54:22</td>\n",
       "      <td>Reddit has so much alpha, even Meta AI studies...</td>\n",
       "    </tr>\n",
       "    <tr>\n",
       "      <th>24399</th>\n",
       "      <td>Bharat Shetty GenAI WhatsApp Group</td>\n",
       "      <td>2023-10-01 12:11:53</td>\n",
       "      <td>*Generative AI Jobs*  *Organization: AccelData...</td>\n",
       "    </tr>\n",
       "  </tbody>\n",
       "</table>\n",
       "<p>24400 rows × 3 columns</p>\n",
       "</div>"
      ],
      "text/plain": [
       "                                   Sender  ...                                            Message\n",
       "0                  The GenerativeAI Group  ...  ‎Messages and calls are end-to-end encrypted. ...\n",
       "1                  The GenerativeAI Group  ...        ‎You created group “GenerativeAI/DeepMedia”\n",
       "2                  The GenerativeAI Group  ...  ‎‎‎Disappearing messages were turned on. ‎New ...\n",
       "3                           Kaushik Bokka  ...  ‎Kaushik Bokka joined using this group's invit...\n",
       "4                              Ravi Theja  ...  ‎Ravi Theja joined using this group's invite link\n",
       "...                                   ...  ...                                                ...\n",
       "24395                        ~ Nayan Shah  ...       Or just show picture of zuck beating elon 😂😂\n",
       "24396  Bharat Shetty GenAI WhatsApp Group  ...  Waiting to see what ASR/STT they are planning ...\n",
       "24397                Digvijay GenAI Group  ...  https://www.cst.cam.ac.uk/research/srg/project...\n",
       "24398                            Nirant K  ...  Reddit has so much alpha, even Meta AI studies...\n",
       "24399  Bharat Shetty GenAI WhatsApp Group  ...  *Generative AI Jobs*  *Organization: AccelData...\n",
       "\n",
       "[24400 rows x 3 columns]"
      ]
     },
     "execution_count": 8,
     "metadata": {},
     "output_type": "execute_result"
    }
   ],
   "source": [
    "df"
   ]
  },
  {
   "cell_type": "code",
   "execution_count": 9,
   "metadata": {},
   "outputs": [],
   "source": [
    "wga_users = wga(df)"
   ]
  },
  {
   "cell_type": "code",
   "execution_count": 11,
   "metadata": {},
   "outputs": [],
   "source": [
    "inactive_users = wga_users.get_inactive_users()"
   ]
  },
  {
   "cell_type": "code",
   "execution_count": 12,
   "metadata": {},
   "outputs": [],
   "source": [
    "inactive_users.to_csv('inactive_users.csv', index=False)"
   ]
  },
  {
   "cell_type": "code",
   "execution_count": null,
   "metadata": {},
   "outputs": [],
   "source": []
  }
 ],
 "metadata": {
  "kernelspec": {
   "display_name": "fst",
   "language": "python",
   "name": "python3"
  },
  "language_info": {
   "codemirror_mode": {
    "name": "ipython",
    "version": 3
   },
   "file_extension": ".py",
   "mimetype": "text/x-python",
   "name": "python",
   "nbconvert_exporter": "python",
   "pygments_lexer": "ipython3",
   "version": "3.9.17"
  },
  "orig_nbformat": 4
 },
 "nbformat": 4,
 "nbformat_minor": 2
}
