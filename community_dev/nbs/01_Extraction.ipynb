{
 "cells": [
  {
   "cell_type": "code",
   "execution_count": null,
   "metadata": {},
   "outputs": [],
   "source": [
    "from pathlib import Path\n",
    "from datetime import timedelta\n",
    "text = Path(\"_chat.txt\").open(\"r\").read()"
   ]
  },
  {
   "cell_type": "code",
   "execution_count": null,
   "metadata": {},
   "outputs": [],
   "source": [
    "import re\n",
    "import pandas as pd\n",
    "from datetime import datetime\n",
    "from typing import List, Tuple"
   ]
  },
  {
   "cell_type": "code",
   "execution_count": null,
   "metadata": {},
   "outputs": [],
   "source": [
    "def extract_messages(input_text: str) -> List[Tuple[str, str, str]]:\n",
    "    pattern = re.compile(\n",
    "        r\"\\[(?P<date>\\d{1,2}\\/\\d{1,2}\\/\\d{2,4}), (?P<time>\\d{1,2}:\\d{2}:\\d{2})\\] (?P<sender>[^:]+): (?P<message>.+)\"\n",
    "    )\n",
    "    join_pattern = re.compile(r\"joined using this group\\'s invite link\")\n",
    "\n",
    "    messages = []\n",
    "    for line in input_text.split(\"\\n\"):\n",
    "        match = pattern.match(line)\n",
    "        if match and not join_pattern.search(line):\n",
    "            date, time, sender, message = match.groups()\n",
    "            datetime_str = f\"{date} {time}\"\n",
    "            dt = datetime.strptime(datetime_str, \"%m/%d/%y %H:%M:%S\")\n",
    "            messages.append((sender, dt, message))\n",
    "\n",
    "    return messages\n",
    "\n",
    "\n",
    "messages = extract_messages(text)\n",
    "df = pd.DataFrame(messages, columns=[\"Sender\", \"Datetime\", \"Message\"])\n",
    "\n",
    "print(df)"
   ]
  },
  {
   "cell_type": "code",
   "execution_count": null,
   "metadata": {},
   "outputs": [],
   "source": [
    "def remove_pii(text):\n",
    "    # Remove phone numbers\n",
    "    phone_pattern = re.compile(r\"@\\+?(\\d[\\d-]{7,}\\d)\")\n",
    "    no_phones = phone_pattern.sub(\"[PHONE REMOVED]\", text)\n",
    "\n",
    "    # Remove email addresses\n",
    "    email_pattern = re.compile(r\"\\b[A-Za-z0-9._%+-]+@[A-Za-z0-9.-]+\\.[A-Z|a-z]{2,}\\b\")\n",
    "    no_emails = email_pattern.sub(\"[EMAIL REMOVED]\", no_phones)\n",
    "\n",
    "    return no_emails\n",
    "\n",
    "\n",
    "def cleanup(df):\n",
    "    # Drop the Sender column\n",
    "    if \"Sender\" in df.columns:\n",
    "        df = df.drop(columns=[\"Sender\"])\n",
    "    # Drop the rows with no message\n",
    "    df = df.dropna()\n",
    "\n",
    "    df = df[~df[\"Message\"].str.contains(\"deleted this message\")]\n",
    "    df = df[~df[\"Message\"].str.contains(\"message was deleted\")]\n",
    "    df = df[~df[\"Message\"].str.contains(\"‎‪\")]\n",
    "    df = df[~df[\"Message\"].str.contains(\"changed the subject to\")]\n",
    "    df = df[~df[\"Message\"].str.contains(\"‎\")]\n",
    "    df = df[~df[\"Message\"].str.contains(\"You added\")]\n",
    "    df = df[~df[\"Message\"].str.contains(\"changed the group description\")]\n",
    "    df = df[~df[\"Message\"].str.contains(\"POLL:\")]\n",
    "    df = df[~df[\"Message\"].str.contains(\"reset this group's invite link\")]\n",
    "    df = df[~df[\"Message\"].str.contains(\"changed this group's icon\")]\n",
    "    df = df[~df[\"Message\"].str.contains(\"changed the subject from\")]\n",
    "    df = df[~df[\"Message\"].str.contains(\"changed this group's settings\")]\n",
    "    df[\"Message\"] = df[\"Message\"].apply(remove_pii)\n",
    "    return df\n",
    "\n",
    "\n",
    "print(f\"Before cleanup: {len(df)}\")\n",
    "\n",
    "# Export the raw DataFrame to CSV\n",
    "df.to_csv(\"raw_latest.csv\", index=False)\n",
    "\n",
    "import pandas as pd\n",
    "import re\n",
    "\n",
    "# Parse datetime\n",
    "df['Datetime'] = pd.to_datetime(df['Datetime'])\n",
    "\n",
    "# Initialize empty dictionary to keep track of join dates and message counts\n",
    "join_dates = {}\n",
    "message_counts = {}\n",
    "\n",
    "# For each row in the DataFrame\n",
    "for idx, row in df.iterrows():\n",
    "    sender = row['Sender']\n",
    "    message = row['Message']\n",
    "    datetime = row['Datetime']\n",
    "    \n",
    "    # Check if the sender has already joined\n",
    "    if sender not in join_dates:\n",
    "        # Check if the message indicates the sender has joined\n",
    "        if re.search(rf'{re.escape(sender)} (was added|joined via community|joined via an invite link)', message) or re.search(rf'.* added {re.escape(sender)}', message):\n",
    "            join_dates[sender] = datetime\n",
    "        else:\n",
    "            # If the sender is not in the join dates and the message does not indicate they have joined,\n",
    "            # then this is the first message from the sender and we use the datetime of this message as the join date\n",
    "            join_dates[sender] = datetime\n",
    "    \n",
    "    # Increment the count of messages for the sender\n",
    "    if sender not in message_counts:\n",
    "        message_counts[sender] = 1\n",
    "    else:\n",
    "        message_counts[sender] += 1\n",
    "\n",
    "# Create a new DataFrame from the join dates and message counts dictionaries\n",
    "df_result = pd.DataFrame({\n",
    "    'Sender': list(join_dates.keys()),\n",
    "    'Join_Date': list(join_dates.values()),\n",
    "    'Number_of_Messages': list(message_counts.values())\n",
    "})\n",
    "\n",
    "df_result\n",
    "# df_result[df_result['Sender'] == 'Rahul Bhatnagar']"
   ]
  },
  {
   "cell_type": "code",
   "execution_count": null,
   "metadata": {},
   "outputs": [],
   "source": [
    "# Filter the DataFrame based on the conditions\n",
    "\n",
    "latest_date = df[\"Datetime\"].max().date().strftime(\"%Y%m%d\")\n",
    "cutoff_date = pd.to_datetime(latest_date) - timedelta(days=60)\n",
    "print(f\"Latest date: {latest_date}, cutoff date: {cutoff_date}\")\n",
    "df_filtered = df_result[(df_result['Join_Date'] < cutoff_date) & (df_result['Number_of_Messages'] <= 1)]\n",
    "df_filtered"
   ]
  },
  {
   "cell_type": "code",
   "execution_count": null,
   "metadata": {},
   "outputs": [],
   "source": [
    "# Count the number of senders that contain a \"~\" in their name\n",
    "senders_with_tilde = df_filtered[df_filtered['Sender'].str.contains('~')]\n",
    "\n",
    "# Users to be removed\n",
    "senders_with_tilde.to_csv(\"users_to_remove.csv\", index=False)\n",
    "senders_with_tilde"
   ]
  },
  {
   "cell_type": "code",
   "execution_count": null,
   "metadata": {},
   "outputs": [],
   "source": [
    "df_result[df_result['Join_Date'] >= cutoff_date]\n",
    "# num_users_joined_since_cutoff"
   ]
  },
  {
   "cell_type": "code",
   "execution_count": null,
   "metadata": {},
   "outputs": [],
   "source": [
    "# Today's date\n",
    "df = cleanup(df)\n",
    "print(f\"After cleanup: {len(df)}\")\n",
    "df.to_csv(f\"../{latest_date}_Messages.csv\", index=False)"
   ]
  },
  {
   "cell_type": "code",
   "execution_count": null,
   "metadata": {},
   "outputs": [],
   "source": []
  }
 ],
 "metadata": {
  "kernelspec": {
   "display_name": "Python 3 (ipykernel)",
   "language": "python",
   "name": "python3"
  },
  "language_info": {
   "codemirror_mode": {
    "name": "ipython",
    "version": 3
   },
   "file_extension": ".py",
   "mimetype": "text/x-python",
   "name": "python",
   "nbconvert_exporter": "python",
   "pygments_lexer": "ipython3",
   "version": "3.8.16"
  }
 },
 "nbformat": 4,
 "nbformat_minor": 2
}
