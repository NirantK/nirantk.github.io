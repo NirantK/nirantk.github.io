{
 "cells": [
  {
   "cell_type": "code",
   "execution_count": null,
   "metadata": {},
   "outputs": [],
   "source": [
    "%load_ext autoreload\n",
    "%autoreload 2\n",
    "\n",
    "import re\n",
    "import pandas as pd\n",
    "from typing import Tuple, Optional\n",
    "from pathlib import Path\n",
    "from datetime import timedelta, datetime\n",
    "from whatsapp_parser import extract_messages, cleanup, WhatsAppGroupAnalysis"
   ]
  },
  {
   "cell_type": "code",
   "execution_count": null,
   "metadata": {},
   "outputs": [],
   "source": [
    "file_path = Path(\"_chat 3.txt\") # Path to your exported WhatsApp chat\n",
    "assert file_path.exists()"
   ]
  },
  {
   "cell_type": "code",
   "execution_count": null,
   "metadata": {},
   "outputs": [],
   "source": [
    "previous_df = pd.read_csv(\"../20231120_Messages.csv\", sep=\"|\")\n",
    "previous_df[\"Datetime\"] = pd.to_datetime(previous_df[\"Datetime\"])\n",
    "previous_df"
   ]
  },
  {
   "cell_type": "code",
   "execution_count": null,
   "metadata": {},
   "outputs": [],
   "source": [
    "def parse_chat_line(line):\n",
    "    match = re.match(r\"\\[(.*?)\\] (.*?): (.*)\", line)\n",
    "    if match:\n",
    "        date_time_str, sender, message = match.groups()\n",
    "        try:\n",
    "            date_time = datetime.strptime(date_time_str, '%Y-%m-%d, %H:%M:%S')\n",
    "        except ValueError:\n",
    "            date_time = datetime.strptime(date_time_str, '%m/%d/%y, %H:%M:%S')\n",
    "        return date_time, sender, message\n",
    "    return None\n",
    "\n",
    "def parse_chat(file_path: str) -> pd.DataFrame:\n",
    "    \"\"\"\n",
    "    Parses a WhatsApp chat log into a DataFrame.\n",
    "\n",
    "    Parameters:\n",
    "        file_path (str): Path to the chat log file.\n",
    "        lines_to_read (int): Number of lines to read from the file.\n",
    "\n",
    "    Returns:\n",
    "        pd.DataFrame: DataFrame containing the parsed chat with columns 'Sender', 'Datetime', 'Message'.\n",
    "    \"\"\"\n",
    "    parsed_data = []\n",
    "    with open(file_path, 'r') as file:\n",
    "        for _, line in enumerate(file):\n",
    "            parsed_line = parse_chat_line(line)\n",
    "            if parsed_line:\n",
    "                parsed_data.append(parsed_line)\n",
    "\n",
    "    # Creating a DataFrame\n",
    "    df = pd.DataFrame(parsed_data, columns=['Datetime', 'Sender', 'Message'])\n",
    "    # df['Datetime'] = pd.to_datetime(df['Datetime'], format=\"%Y-%m-%d, %H:%M:%S\")\n",
    "    return df\n",
    "\n",
    "df = parse_chat(file_path=file_path)\n",
    "print(f\"Before cleanup: {len(df)}\")\n",
    "df = cleanup(df)\n",
    "print(f\"After cleanup: {len(df)}\")\n",
    "\n",
    "df"
   ]
  },
  {
   "cell_type": "code",
   "execution_count": null,
   "metadata": {},
   "outputs": [],
   "source": [
    "df = pd.concat([df, previous_df], ignore_index=True)\n",
    "df.Datetime.min(), df.Datetime.max()"
   ]
  },
  {
   "cell_type": "code",
   "execution_count": null,
   "metadata": {},
   "outputs": [],
   "source": [
    "# Find latest date from df\n",
    "latest_date = df['Datetime'].max().strftime(\"%Y%m%d\")\n",
    "file_name = f\"../{latest_date}_Messages.csv\"\n",
    "df.Datetime.min(), df.Datetime.max()\n",
    "# Save the dataframe as a csv file with {latest_date}_Messages.csv as the filename.\n",
    "df.to_csv(file_name, index=False, encoding='utf-8', header=True, sep=\"|\")\n",
    "# df = pd.read_csv(file_name, sep=\"|\")\n",
    "# df.Datetime.min(), df.Datetime.max()"
   ]
  },
  {
   "cell_type": "code",
   "execution_count": null,
   "metadata": {},
   "outputs": [],
   "source": [
    "# Create an instance of the class using the uploaded CSV file\n",
    "analysis = WhatsAppGroupAnalysis(df)\n",
    "\n",
    "# Test the methods\n",
    "current_users_df = analysis.get_current_users()\n",
    "message_count_in_window_df = analysis.get_message_count_in_window(10)\n",
    "# message_count_in_window_df"
   ]
  },
  {
   "cell_type": "code",
   "execution_count": null,
   "metadata": {},
   "outputs": [],
   "source": [
    "inactive_users_to_remove = analysis.get_inactive_users(exclude_contacts=False)\n",
    "inactive_users_to_remove"
   ]
  },
  {
   "cell_type": "code",
   "execution_count": null,
   "metadata": {},
   "outputs": [],
   "source": [
    "# Sort by total messages sent and then by joining date\n",
    "inactive_users = inactive_users_to_remove.sort_values(\n",
    "    by=['Total_Messages_Sent', 'Joining_Date'], ascending=[True, True])\n",
    "# Display the DataFrame\n",
    "inactive_users"
   ]
  },
  {
   "cell_type": "code",
   "execution_count": null,
   "metadata": {},
   "outputs": [],
   "source": [
    "inactive_users.to_csv('inactive_users.csv', index=False)"
   ]
  }
 ],
 "metadata": {
  "kernelspec": {
   "display_name": "Python 3 (ipykernel)",
   "language": "python",
   "name": "python3"
  },
  "language_info": {
   "codemirror_mode": {
    "name": "ipython",
    "version": 3
   },
   "file_extension": ".py",
   "mimetype": "text/x-python",
   "name": "python",
   "nbconvert_exporter": "python",
   "pygments_lexer": "ipython3",
   "version": "3.9.17"
  }
 },
 "nbformat": 4,
 "nbformat_minor": 2
}
