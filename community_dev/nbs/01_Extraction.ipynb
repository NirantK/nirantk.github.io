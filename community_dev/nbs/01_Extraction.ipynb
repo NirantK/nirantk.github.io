{
 "cells": [
  {
   "cell_type": "code",
   "execution_count": null,
   "metadata": {},
   "outputs": [],
   "source": [
    "%load_ext autoreload\n",
    "%autoreload 2\n",
    "\n",
    "import re\n",
    "from typing import Tuple\n",
    "from pathlib import Path\n",
    "from datetime import timedelta\n",
    "\n",
    "import pandas as pd\n",
    "file_path = Path(\"_chat.txt\")"
   ]
  },
  {
   "cell_type": "code",
   "execution_count": null,
   "metadata": {},
   "outputs": [],
   "source": [
    "from whatsapp_parser import extract_messages, cleanup, WhatsAppGroupAnalysis\n",
    "\n",
    "df = extract_messages(file_path=file_path)\n",
    "print(f\"Before cleanup: {len(df)}\")\n",
    "df = cleanup(df)\n",
    "print(f\"After cleanup: {len(df)}\")\n",
    "df"
   ]
  },
  {
   "cell_type": "code",
   "execution_count": null,
   "metadata": {},
   "outputs": [],
   "source": [
    "# Parse datetime\n",
    "# df['Datetime'] = pd.to_datetime(df['Datetime'])\n",
    "# df"
   ]
  },
  {
   "cell_type": "code",
   "execution_count": null,
   "metadata": {},
   "outputs": [],
   "source": [
    "# Find latest date from df\n",
    "latest_date = df['Datetime'].max().strftime(\"%Y%m%d\")\n",
    "file_name = f\"../{latest_date}_Messages.csv\"\n",
    "\n",
    "# Save the dataframe as a csv file with {latest_date}_Messages.csv as the filename.\n",
    "df.to_csv(file_name, index=False, encoding='utf-8', header=True, sep=\"|\")\n",
    "pd.read_csv(file_name, sep=\"|\")"
   ]
  },
  {
   "cell_type": "code",
   "execution_count": null,
   "metadata": {},
   "outputs": [],
   "source": [
    "# Create an instance of the class using the uploaded CSV file\n",
    "analysis = WhatsAppGroupAnalysis(df)\n",
    "\n",
    "# Test the methods\n",
    "current_users_df = analysis.get_current_users()\n",
    "message_count_in_window_df = analysis.get_message_count_in_window(60)"
   ]
  },
  {
   "cell_type": "code",
   "execution_count": null,
   "metadata": {},
   "outputs": [],
   "source": [
    "inactive_users_to_remove = analysis.get_inactive_users()"
   ]
  },
  {
   "cell_type": "code",
   "execution_count": null,
   "metadata": {},
   "outputs": [],
   "source": [
    "# Sort by total messages sent and then by joining date\n",
    "inactive_users = inactive_users_to_remove.sort_values(\n",
    "    by=['Total_Messages_Sent', 'Joining_Date'], ascending=[True, True])\n",
    "# Display the DataFrame\n",
    "inactive_users"
   ]
  },
  {
   "cell_type": "code",
   "execution_count": null,
   "metadata": {},
   "outputs": [],
   "source": [
    "inactive_users.to_csv('inactive_users.csv', index=False)"
   ]
  },
  {
   "cell_type": "code",
   "execution_count": null,
   "metadata": {},
   "outputs": [],
   "source": []
  }
 ],
 "metadata": {
  "kernelspec": {
   "display_name": "Python 3 (ipykernel)",
   "language": "python",
   "name": "python3"
  },
  "language_info": {
   "codemirror_mode": {
    "name": "ipython",
    "version": 3
   },
   "file_extension": ".py",
   "mimetype": "text/x-python",
   "name": "python",
   "nbconvert_exporter": "python",
   "pygments_lexer": "ipython3",
   "version": "3.9.17"
  }
 },
 "nbformat": 4,
 "nbformat_minor": 2
}
