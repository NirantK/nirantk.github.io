{
 "cells": [
  {
   "cell_type": "code",
   "execution_count": 1,
   "metadata": {},
   "outputs": [],
   "source": [
    "%load_ext autoreload\n",
    "%autoreload 2\n",
    "\n",
    "import pandas as pd\n",
    "from pathlib import Path\n",
    "import zipfile\n",
    "\n",
    "import click\n",
    "from loguru import logger\n",
    "from whatsapp_parser import extract_dataframe\n",
    "from whatsapp_parser import WhatsAppGroupAnalysis\n",
    "\n",
    "Path.ls = lambda x: list(x.iterdir())"
   ]
  },
  {
   "cell_type": "code",
   "execution_count": 2,
   "metadata": {},
   "outputs": [],
   "source": [
    "source_folder_path = Path(\"../Community_Chat_Exports\")\n",
    "chat_text_files_path = Path(\"../chat_text_files\")\n",
    "chat_text_files_path.mkdir(parents=True, exist_ok=True)\n",
    "# Extract all zip files in the folder while retaining the name from zip file after \"_\"\n",
    "def extract_and_rename_zip_files(source_folder_path: Path, export_path: Path):\n",
    "    for file in source_folder_path.glob(\"*.zip\"):\n",
    "        logger.info(f\"Extracting {file}\")\n",
    "        with zipfile.ZipFile(file, \"r\") as zip_ref:\n",
    "            # Rename the extracted txt file with the name of the zip file after \"_\"\n",
    "            new_file_name = chat_text_files_path / f\"{file.stem.split('_')[1]}.txt\"\n",
    "            zip_ref.extractall(source_folder_path)\n",
    "            for extracted_file in source_folder_path.glob(\"*.txt\"):\n",
    "                logger.info(f\"Renaming {extracted_file} to {new_file_name}\")\n",
    "                extracted_file.rename(new_file_name)\n",
    "\n",
    "extract_and_rename_zip_files(source_folder_path, chat_text_files_path)"
   ]
  },
  {
   "cell_type": "code",
   "execution_count": 3,
   "metadata": {},
   "outputs": [],
   "source": [
    "chat_csv_files = Path(\"../chat_csv_files\")\n",
    "chat_csv_files.mkdir(parents=True, exist_ok=True)"
   ]
  },
  {
   "cell_type": "code",
   "execution_count": 4,
   "metadata": {},
   "outputs": [],
   "source": [
    "def process_file(input_file):\n",
    "    input_path = Path(input_file)\n",
    "    if not input_path.is_file() or input_path.suffix != \".txt\":\n",
    "        click.echo(f\"Error: {input_file} is not a valid .txt file\")\n",
    "        return\n",
    "\n",
    "    logger.info(f\"Processing {input_path.name}\")\n",
    "    df = extract_dataframe(input_path)\n",
    "    df[\"group_name\"] = input_path.stem\n",
    "    output_file = chat_csv_files / f\"{input_path.stem}.csv\"\n",
    "    df.to_csv(output_file, index=False)\n",
    "    logger.info(f\"Processed {len(df)} rows. Output saved to {output_file}\")\n",
    "\n",
    "\n",
    "for file in chat_text_files_path.ls():\n",
    "    process_file(file)"
   ]
  },
  {
   "cell_type": "code",
   "execution_count": 5,
   "metadata": {},
   "outputs": [
    {
     "ename": "ValueError",
     "evalue": "No objects to concatenate",
     "output_type": "error",
     "traceback": [
      "\u001b[0;31m---------------------------------------------------------------------------\u001b[0m",
      "\u001b[0;31mValueError\u001b[0m                                Traceback (most recent call last)",
      "Cell \u001b[0;32mIn[5], line 3\u001b[0m\n\u001b[1;32m      1\u001b[0m chat_csv_files \u001b[38;5;241m=\u001b[39m Path(\u001b[38;5;124m\"\u001b[39m\u001b[38;5;124m../chat_csv_files\u001b[39m\u001b[38;5;124m\"\u001b[39m)\n\u001b[0;32m----> 3\u001b[0m combined_df \u001b[38;5;241m=\u001b[39m \u001b[43mpd\u001b[49m\u001b[38;5;241;43m.\u001b[39;49m\u001b[43mconcat\u001b[49m\u001b[43m(\u001b[49m\n\u001b[1;32m      4\u001b[0m \u001b[43m    \u001b[49m\u001b[43m[\u001b[49m\n\u001b[1;32m      5\u001b[0m \u001b[43m        \u001b[49m\u001b[43mpd\u001b[49m\u001b[38;5;241;43m.\u001b[39;49m\u001b[43mread_csv\u001b[49m\u001b[43m(\u001b[49m\u001b[43mfile\u001b[49m\u001b[43m)\u001b[49m\n\u001b[1;32m      6\u001b[0m \u001b[43m        \u001b[49m\u001b[38;5;28;43;01mfor\u001b[39;49;00m\u001b[43m \u001b[49m\u001b[43mfile\u001b[49m\u001b[43m \u001b[49m\u001b[38;5;129;43;01min\u001b[39;49;00m\u001b[43m \u001b[49m\u001b[43mchat_csv_files\u001b[49m\u001b[38;5;241;43m.\u001b[39;49m\u001b[43mls\u001b[49m\u001b[43m(\u001b[49m\u001b[43m)\u001b[49m\n\u001b[1;32m      7\u001b[0m \u001b[43m        \u001b[49m\u001b[38;5;28;43;01mif\u001b[39;49;00m\u001b[43m \u001b[49m\u001b[43mfile\u001b[49m\u001b[38;5;241;43m.\u001b[39;49m\u001b[43mis_file\u001b[49m\u001b[43m(\u001b[49m\u001b[43m)\u001b[49m\u001b[43m \u001b[49m\u001b[38;5;129;43;01mand\u001b[39;49;00m\u001b[43m \u001b[49m\u001b[43mfile\u001b[49m\u001b[38;5;241;43m.\u001b[39;49m\u001b[43msuffix\u001b[49m\u001b[43m \u001b[49m\u001b[38;5;241;43m==\u001b[39;49m\u001b[43m \u001b[49m\u001b[38;5;124;43m\"\u001b[39;49m\u001b[38;5;124;43m.csv\u001b[39;49m\u001b[38;5;124;43m\"\u001b[39;49m\n\u001b[1;32m      8\u001b[0m \u001b[43m    \u001b[49m\u001b[43m]\u001b[49m\n\u001b[1;32m      9\u001b[0m \u001b[43m)\u001b[49m\n\u001b[1;32m     10\u001b[0m combined_df\u001b[38;5;241m.\u001b[39mhead()\n",
      "File \u001b[0;32m/opt/homebrew/Caskroom/miniconda/base/lib/python3.12/site-packages/pandas/core/reshape/concat.py:382\u001b[0m, in \u001b[0;36mconcat\u001b[0;34m(objs, axis, join, ignore_index, keys, levels, names, verify_integrity, sort, copy)\u001b[0m\n\u001b[1;32m    379\u001b[0m \u001b[38;5;28;01melif\u001b[39;00m copy \u001b[38;5;129;01mand\u001b[39;00m using_copy_on_write():\n\u001b[1;32m    380\u001b[0m     copy \u001b[38;5;241m=\u001b[39m \u001b[38;5;28;01mFalse\u001b[39;00m\n\u001b[0;32m--> 382\u001b[0m op \u001b[38;5;241m=\u001b[39m \u001b[43m_Concatenator\u001b[49m\u001b[43m(\u001b[49m\n\u001b[1;32m    383\u001b[0m \u001b[43m    \u001b[49m\u001b[43mobjs\u001b[49m\u001b[43m,\u001b[49m\n\u001b[1;32m    384\u001b[0m \u001b[43m    \u001b[49m\u001b[43maxis\u001b[49m\u001b[38;5;241;43m=\u001b[39;49m\u001b[43maxis\u001b[49m\u001b[43m,\u001b[49m\n\u001b[1;32m    385\u001b[0m \u001b[43m    \u001b[49m\u001b[43mignore_index\u001b[49m\u001b[38;5;241;43m=\u001b[39;49m\u001b[43mignore_index\u001b[49m\u001b[43m,\u001b[49m\n\u001b[1;32m    386\u001b[0m \u001b[43m    \u001b[49m\u001b[43mjoin\u001b[49m\u001b[38;5;241;43m=\u001b[39;49m\u001b[43mjoin\u001b[49m\u001b[43m,\u001b[49m\n\u001b[1;32m    387\u001b[0m \u001b[43m    \u001b[49m\u001b[43mkeys\u001b[49m\u001b[38;5;241;43m=\u001b[39;49m\u001b[43mkeys\u001b[49m\u001b[43m,\u001b[49m\n\u001b[1;32m    388\u001b[0m \u001b[43m    \u001b[49m\u001b[43mlevels\u001b[49m\u001b[38;5;241;43m=\u001b[39;49m\u001b[43mlevels\u001b[49m\u001b[43m,\u001b[49m\n\u001b[1;32m    389\u001b[0m \u001b[43m    \u001b[49m\u001b[43mnames\u001b[49m\u001b[38;5;241;43m=\u001b[39;49m\u001b[43mnames\u001b[49m\u001b[43m,\u001b[49m\n\u001b[1;32m    390\u001b[0m \u001b[43m    \u001b[49m\u001b[43mverify_integrity\u001b[49m\u001b[38;5;241;43m=\u001b[39;49m\u001b[43mverify_integrity\u001b[49m\u001b[43m,\u001b[49m\n\u001b[1;32m    391\u001b[0m \u001b[43m    \u001b[49m\u001b[43mcopy\u001b[49m\u001b[38;5;241;43m=\u001b[39;49m\u001b[43mcopy\u001b[49m\u001b[43m,\u001b[49m\n\u001b[1;32m    392\u001b[0m \u001b[43m    \u001b[49m\u001b[43msort\u001b[49m\u001b[38;5;241;43m=\u001b[39;49m\u001b[43msort\u001b[49m\u001b[43m,\u001b[49m\n\u001b[1;32m    393\u001b[0m \u001b[43m\u001b[49m\u001b[43m)\u001b[49m\n\u001b[1;32m    395\u001b[0m \u001b[38;5;28;01mreturn\u001b[39;00m op\u001b[38;5;241m.\u001b[39mget_result()\n",
      "File \u001b[0;32m/opt/homebrew/Caskroom/miniconda/base/lib/python3.12/site-packages/pandas/core/reshape/concat.py:445\u001b[0m, in \u001b[0;36m_Concatenator.__init__\u001b[0;34m(self, objs, axis, join, keys, levels, names, ignore_index, verify_integrity, copy, sort)\u001b[0m\n\u001b[1;32m    442\u001b[0m \u001b[38;5;28mself\u001b[39m\u001b[38;5;241m.\u001b[39mverify_integrity \u001b[38;5;241m=\u001b[39m verify_integrity\n\u001b[1;32m    443\u001b[0m \u001b[38;5;28mself\u001b[39m\u001b[38;5;241m.\u001b[39mcopy \u001b[38;5;241m=\u001b[39m copy\n\u001b[0;32m--> 445\u001b[0m objs, keys \u001b[38;5;241m=\u001b[39m \u001b[38;5;28;43mself\u001b[39;49m\u001b[38;5;241;43m.\u001b[39;49m\u001b[43m_clean_keys_and_objs\u001b[49m\u001b[43m(\u001b[49m\u001b[43mobjs\u001b[49m\u001b[43m,\u001b[49m\u001b[43m \u001b[49m\u001b[43mkeys\u001b[49m\u001b[43m)\u001b[49m\n\u001b[1;32m    447\u001b[0m \u001b[38;5;66;03m# figure out what our result ndim is going to be\u001b[39;00m\n\u001b[1;32m    448\u001b[0m ndims \u001b[38;5;241m=\u001b[39m \u001b[38;5;28mself\u001b[39m\u001b[38;5;241m.\u001b[39m_get_ndims(objs)\n",
      "File \u001b[0;32m/opt/homebrew/Caskroom/miniconda/base/lib/python3.12/site-packages/pandas/core/reshape/concat.py:507\u001b[0m, in \u001b[0;36m_Concatenator._clean_keys_and_objs\u001b[0;34m(self, objs, keys)\u001b[0m\n\u001b[1;32m    504\u001b[0m     objs_list \u001b[38;5;241m=\u001b[39m \u001b[38;5;28mlist\u001b[39m(objs)\n\u001b[1;32m    506\u001b[0m \u001b[38;5;28;01mif\u001b[39;00m \u001b[38;5;28mlen\u001b[39m(objs_list) \u001b[38;5;241m==\u001b[39m \u001b[38;5;241m0\u001b[39m:\n\u001b[0;32m--> 507\u001b[0m     \u001b[38;5;28;01mraise\u001b[39;00m \u001b[38;5;167;01mValueError\u001b[39;00m(\u001b[38;5;124m\"\u001b[39m\u001b[38;5;124mNo objects to concatenate\u001b[39m\u001b[38;5;124m\"\u001b[39m)\n\u001b[1;32m    509\u001b[0m \u001b[38;5;28;01mif\u001b[39;00m keys \u001b[38;5;129;01mis\u001b[39;00m \u001b[38;5;28;01mNone\u001b[39;00m:\n\u001b[1;32m    510\u001b[0m     objs_list \u001b[38;5;241m=\u001b[39m \u001b[38;5;28mlist\u001b[39m(com\u001b[38;5;241m.\u001b[39mnot_none(\u001b[38;5;241m*\u001b[39mobjs_list))\n",
      "\u001b[0;31mValueError\u001b[0m: No objects to concatenate"
     ]
    }
   ],
   "source": [
    "chat_csv_files = Path(\"../chat_csv_files\")\n",
    "\n",
    "combined_df = pd.concat(\n",
    "    [\n",
    "        pd.read_csv(file)\n",
    "        for file in chat_csv_files.ls()\n",
    "        if file.is_file() and file.suffix == \".csv\"\n",
    "    ]\n",
    ")\n",
    "combined_df.head()"
   ]
  },
  {
   "cell_type": "code",
   "execution_count": 56,
   "metadata": {},
   "outputs": [],
   "source": [
    "# Create an instance of the class using the uploaded CSV file\n",
    "analysis = WhatsAppGroupAnalysis(combined_df)\n",
    "\n",
    "# Test the methods\n",
    "current_users_df = analysis.get_current_users()\n",
    "message_count_in_window_df = analysis.get_message_count_in_window(60)\n",
    "# message_count_in_window_df"
   ]
  },
  {
   "cell_type": "code",
   "execution_count": 57,
   "metadata": {},
   "outputs": [
    {
     "data": {
      "text/plain": [
       "(                                   User\n",
       " 0                        ~ Apurva Bhatt\n",
       " 1                       ~ Shaurya Gupta\n",
       " 2                               ~ Tapan\n",
       " 3                    Nirmal GenAI group\n",
       " 4     Dr. Ashith Generative AI WA Group\n",
       " ..                                  ...\n",
       " 760                    ~ Prasanna/Vinay\n",
       " 761                      ~ Shreya Mandi\n",
       " 762                  ~ Amritansh Mishra\n",
       " 763                            ~ Palash\n",
       " 764                          ~ Anuruddh\n",
       " \n",
       " [765 rows x 1 columns],\n",
       " 765)"
      ]
     },
     "execution_count": 57,
     "metadata": {},
     "output_type": "execute_result"
    }
   ],
   "source": [
    "current_users_df"
   ]
  },
  {
   "cell_type": "code",
   "execution_count": 58,
   "metadata": {},
   "outputs": [],
   "source": [
    "inactive_users_to_remove = analysis.get_inactive_users(exclude_contacts=False)"
   ]
  },
  {
   "cell_type": "code",
   "execution_count": 59,
   "metadata": {},
   "outputs": [
    {
     "data": {
      "text/html": [
       "<div>\n",
       "<style scoped>\n",
       "    .dataframe tbody tr th:only-of-type {\n",
       "        vertical-align: middle;\n",
       "    }\n",
       "\n",
       "    .dataframe tbody tr th {\n",
       "        vertical-align: top;\n",
       "    }\n",
       "\n",
       "    .dataframe thead th {\n",
       "        text-align: right;\n",
       "    }\n",
       "</style>\n",
       "<table border=\"1\" class=\"dataframe\">\n",
       "  <thead>\n",
       "    <tr style=\"text-align: right;\">\n",
       "      <th></th>\n",
       "      <th>User</th>\n",
       "      <th>Message_Count_In_Window</th>\n",
       "      <th>Joining_Date</th>\n",
       "      <th>Total_Messages_Sent</th>\n",
       "      <th>Most_Recent_Message_Date</th>\n",
       "    </tr>\n",
       "  </thead>\n",
       "  <tbody>\n",
       "    <tr>\n",
       "      <th>57</th>\n",
       "      <td>~ Charlie</td>\n",
       "      <td>0.0</td>\n",
       "      <td>2023-04-19 01:38:54</td>\n",
       "      <td>1</td>\n",
       "      <td>2023-04-19 01:38:54</td>\n",
       "    </tr>\n",
       "    <tr>\n",
       "      <th>58</th>\n",
       "      <td>Saurab Paruthi</td>\n",
       "      <td>0.0</td>\n",
       "      <td>2023-04-30 12:58:57</td>\n",
       "      <td>1</td>\n",
       "      <td>2023-04-30 12:58:57</td>\n",
       "    </tr>\n",
       "    <tr>\n",
       "      <th>62</th>\n",
       "      <td>~ PARITOSH</td>\n",
       "      <td>0.0</td>\n",
       "      <td>2023-05-26 12:13:40</td>\n",
       "      <td>1</td>\n",
       "      <td>2023-05-26 12:13:40</td>\n",
       "    </tr>\n",
       "    <tr>\n",
       "      <th>63</th>\n",
       "      <td>~ Chandan</td>\n",
       "      <td>0.0</td>\n",
       "      <td>2023-05-27 11:21:30</td>\n",
       "      <td>1</td>\n",
       "      <td>2023-05-27 11:21:30</td>\n",
       "    </tr>\n",
       "    <tr>\n",
       "      <th>64</th>\n",
       "      <td>~ Ugam Kamat</td>\n",
       "      <td>0.0</td>\n",
       "      <td>2023-05-28 09:12:28</td>\n",
       "      <td>1</td>\n",
       "      <td>2023-05-28 09:12:28</td>\n",
       "    </tr>\n",
       "    <tr>\n",
       "      <th>...</th>\n",
       "      <td>...</td>\n",
       "      <td>...</td>\n",
       "      <td>...</td>\n",
       "      <td>...</td>\n",
       "      <td>...</td>\n",
       "    </tr>\n",
       "    <tr>\n",
       "      <th>230</th>\n",
       "      <td>~ Divyansh Tripathi</td>\n",
       "      <td>0.0</td>\n",
       "      <td>2024-03-09 13:47:33</td>\n",
       "      <td>5</td>\n",
       "      <td>2024-04-05 23:34:55</td>\n",
       "    </tr>\n",
       "    <tr>\n",
       "      <th>231</th>\n",
       "      <td>~ Rohit Joshi</td>\n",
       "      <td>0.0</td>\n",
       "      <td>2024-03-18 09:20:46</td>\n",
       "      <td>5</td>\n",
       "      <td>2024-03-22 12:06:42</td>\n",
       "    </tr>\n",
       "    <tr>\n",
       "      <th>248</th>\n",
       "      <td>~ Sreedevi</td>\n",
       "      <td>0.0</td>\n",
       "      <td>2024-03-31 16:55:53</td>\n",
       "      <td>5</td>\n",
       "      <td>2024-05-03 18:45:52</td>\n",
       "    </tr>\n",
       "    <tr>\n",
       "      <th>252</th>\n",
       "      <td>~ Charu</td>\n",
       "      <td>0.0</td>\n",
       "      <td>2024-04-07 11:53:09</td>\n",
       "      <td>5</td>\n",
       "      <td>2024-08-04 14:03:09</td>\n",
       "    </tr>\n",
       "    <tr>\n",
       "      <th>363</th>\n",
       "      <td>~ Shanthi Vardhan</td>\n",
       "      <td>0.0</td>\n",
       "      <td>2024-04-20 21:51:10</td>\n",
       "      <td>5</td>\n",
       "      <td>2024-04-20 21:51:10</td>\n",
       "    </tr>\n",
       "  </tbody>\n",
       "</table>\n",
       "<p>201 rows × 5 columns</p>\n",
       "</div>"
      ],
      "text/plain": [
       "                     User  Message_Count_In_Window        Joining_Date  \\\n",
       "57              ~ Charlie                      0.0 2023-04-19 01:38:54   \n",
       "58         Saurab Paruthi                      0.0 2023-04-30 12:58:57   \n",
       "62             ~ PARITOSH                      0.0 2023-05-26 12:13:40   \n",
       "63              ~ Chandan                      0.0 2023-05-27 11:21:30   \n",
       "64           ~ Ugam Kamat                      0.0 2023-05-28 09:12:28   \n",
       "..                    ...                      ...                 ...   \n",
       "230   ~ Divyansh Tripathi                      0.0 2024-03-09 13:47:33   \n",
       "231         ~ Rohit Joshi                      0.0 2024-03-18 09:20:46   \n",
       "248            ~ Sreedevi                      0.0 2024-03-31 16:55:53   \n",
       "252               ~ Charu                      0.0 2024-04-07 11:53:09   \n",
       "363     ~ Shanthi Vardhan                      0.0 2024-04-20 21:51:10   \n",
       "\n",
       "     Total_Messages_Sent Most_Recent_Message_Date  \n",
       "57                     1      2023-04-19 01:38:54  \n",
       "58                     1      2023-04-30 12:58:57  \n",
       "62                     1      2023-05-26 12:13:40  \n",
       "63                     1      2023-05-27 11:21:30  \n",
       "64                     1      2023-05-28 09:12:28  \n",
       "..                   ...                      ...  \n",
       "230                    5      2024-04-05 23:34:55  \n",
       "231                    5      2024-03-22 12:06:42  \n",
       "248                    5      2024-05-03 18:45:52  \n",
       "252                    5      2024-08-04 14:03:09  \n",
       "363                    5      2024-04-20 21:51:10  \n",
       "\n",
       "[201 rows x 5 columns]"
      ]
     },
     "execution_count": 59,
     "metadata": {},
     "output_type": "execute_result"
    }
   ],
   "source": [
    "# Sort by total messages sent and then by joining date\n",
    "inactive_users = inactive_users_to_remove.sort_values(\n",
    "    by=[\"Total_Messages_Sent\", \"Joining_Date\"], ascending=[True, True]\n",
    ")\n",
    "# Display the DataFrame\n",
    "inactive_users[:201]"
   ]
  },
  {
   "cell_type": "code",
   "execution_count": 60,
   "metadata": {},
   "outputs": [],
   "source": [
    "inactive_users.to_csv(\"inactive_users.csv\", index=False)"
   ]
  }
 ],
 "metadata": {
  "kernelspec": {
   "display_name": "base",
   "language": "python",
   "name": "python3"
  },
  "language_info": {
   "codemirror_mode": {
    "name": "ipython",
    "version": 3
   },
   "file_extension": ".py",
   "mimetype": "text/x-python",
   "name": "python",
   "nbconvert_exporter": "python",
   "pygments_lexer": "ipython3",
   "version": "3.12.3"
  }
 },
 "nbformat": 4,
 "nbformat_minor": 4
}
