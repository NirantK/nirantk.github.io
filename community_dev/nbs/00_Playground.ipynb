{
 "cells": [
  {
   "cell_type": "code",
   "execution_count": 51,
   "metadata": {},
   "outputs": [
    {
     "name": "stdout",
     "output_type": "stream",
     "text": [
      "The autoreload extension is already loaded. To reload it, use:\n",
      "  %reload_ext autoreload\n"
     ]
    }
   ],
   "source": [
    "%load_ext autoreload\n",
    "%autoreload 2\n",
    "\n",
    "import pandas as pd\n",
    "from pathlib import Path\n",
    "import zipfile\n",
    "\n",
    "import click\n",
    "from loguru import logger\n",
    "from whatsapp_parser import extract_dataframe\n",
    "from whatsapp_parser import WhatsAppGroupAnalysis\n",
    "\n",
    "Path.ls = lambda x: list(x.iterdir())"
   ]
  },
  {
   "cell_type": "code",
   "execution_count": 52,
   "metadata": {},
   "outputs": [
    {
     "name": "stderr",
     "output_type": "stream",
     "text": [
      "\u001b[32m2024-10-06 18:21:45.569\u001b[0m | \u001b[1mINFO    \u001b[0m | \u001b[36m__main__\u001b[0m:\u001b[36mextract_and_rename_zip_files\u001b[0m:\u001b[36m7\u001b[0m - \u001b[1mExtracting ../Community_Chat_Exports/20240926_DeepMedia.zip\u001b[0m\n",
      "\u001b[32m2024-10-06 18:21:45.586\u001b[0m | \u001b[1mINFO    \u001b[0m | \u001b[36m__main__\u001b[0m:\u001b[36mextract_and_rename_zip_files\u001b[0m:\u001b[36m13\u001b[0m - \u001b[1mRenaming ../Community_Chat_Exports/WhatsApp Chat with DeepMedia  diffusion and audio tools.txt to ../chat_text_files/DeepMedia.txt\u001b[0m\n",
      "\u001b[32m2024-10-06 18:21:45.589\u001b[0m | \u001b[1mINFO    \u001b[0m | \u001b[36m__main__\u001b[0m:\u001b[36mextract_and_rename_zip_files\u001b[0m:\u001b[36m7\u001b[0m - \u001b[1mExtracting ../Community_Chat_Exports/20241006_GPU.zip\u001b[0m\n",
      "\u001b[32m2024-10-06 18:21:45.598\u001b[0m | \u001b[1mINFO    \u001b[0m | \u001b[36m__main__\u001b[0m:\u001b[36mextract_and_rename_zip_files\u001b[0m:\u001b[36m13\u001b[0m - \u001b[1mRenaming ../Community_Chat_Exports/_chat.txt to ../chat_text_files/GPU.txt\u001b[0m\n",
      "\u001b[32m2024-10-06 18:21:45.601\u001b[0m | \u001b[1mINFO    \u001b[0m | \u001b[36m__main__\u001b[0m:\u001b[36mextract_and_rename_zip_files\u001b[0m:\u001b[36m7\u001b[0m - \u001b[1mExtracting ../Community_Chat_Exports/20241006_Community.zip\u001b[0m\n",
      "\u001b[32m2024-10-06 18:21:45.610\u001b[0m | \u001b[1mINFO    \u001b[0m | \u001b[36m__main__\u001b[0m:\u001b[36mextract_and_rename_zip_files\u001b[0m:\u001b[36m13\u001b[0m - \u001b[1mRenaming ../Community_Chat_Exports/_chat.txt to ../chat_text_files/Community.txt\u001b[0m\n",
      "\u001b[32m2024-10-06 18:21:45.614\u001b[0m | \u001b[1mINFO    \u001b[0m | \u001b[36m__main__\u001b[0m:\u001b[36mextract_and_rename_zip_files\u001b[0m:\u001b[36m7\u001b[0m - \u001b[1mExtracting ../Community_Chat_Exports/20241006_Creatives.zip\u001b[0m\n",
      "\u001b[32m2024-10-06 18:21:45.627\u001b[0m | \u001b[1mINFO    \u001b[0m | \u001b[36m__main__\u001b[0m:\u001b[36mextract_and_rename_zip_files\u001b[0m:\u001b[36m13\u001b[0m - \u001b[1mRenaming ../Community_Chat_Exports/_chat.txt to ../chat_text_files/Creatives.txt\u001b[0m\n",
      "\u001b[32m2024-10-06 18:21:45.628\u001b[0m | \u001b[1mINFO    \u001b[0m | \u001b[36m__main__\u001b[0m:\u001b[36mextract_and_rename_zip_files\u001b[0m:\u001b[36m7\u001b[0m - \u001b[1mExtracting ../Community_Chat_Exports/20241006_Main.zip\u001b[0m\n",
      "\u001b[32m2024-10-06 18:21:45.648\u001b[0m | \u001b[1mINFO    \u001b[0m | \u001b[36m__main__\u001b[0m:\u001b[36mextract_and_rename_zip_files\u001b[0m:\u001b[36m13\u001b[0m - \u001b[1mRenaming ../Community_Chat_Exports/_chat.txt to ../chat_text_files/Main.txt\u001b[0m\n"
     ]
    }
   ],
   "source": [
    "source_folder_path = Path(\"../Community_Chat_Exports\")\n",
    "chat_text_files_path = Path(\"../chat_text_files\")\n",
    "chat_text_files_path.mkdir(parents=True, exist_ok=True)\n",
    "# Extract all zip files in the folder while retaining the name from zip file after \"_\"\n",
    "def extract_and_rename_zip_files(source_folder_path: Path, export_path: Path):\n",
    "    for file in source_folder_path.glob(\"*.zip\"):\n",
    "        logger.info(f\"Extracting {file}\")\n",
    "        with zipfile.ZipFile(file, \"r\") as zip_ref:\n",
    "            # Rename the extracted txt file with the name of the zip file after \"_\"\n",
    "            new_file_name = chat_text_files_path / f\"{file.stem.split('_')[1]}.txt\"\n",
    "            zip_ref.extractall(source_folder_path)\n",
    "            for extracted_file in source_folder_path.glob(\"*.txt\"):\n",
    "                logger.info(f\"Renaming {extracted_file} to {new_file_name}\")\n",
    "                extracted_file.rename(new_file_name)\n",
    "\n",
    "extract_and_rename_zip_files(source_folder_path, chat_text_files_path)"
   ]
  },
  {
   "cell_type": "code",
   "execution_count": 53,
   "metadata": {},
   "outputs": [],
   "source": [
    "chat_csv_files = Path(\"../chat_csv_files\")\n",
    "chat_csv_files.mkdir(parents=True, exist_ok=True)"
   ]
  },
  {
   "cell_type": "code",
   "execution_count": 54,
   "metadata": {},
   "outputs": [
    {
     "name": "stderr",
     "output_type": "stream",
     "text": [
      "\u001b[32m2024-10-06 18:21:45.671\u001b[0m | \u001b[1mINFO    \u001b[0m | \u001b[36m__main__\u001b[0m:\u001b[36mprocess_file\u001b[0m:\u001b[36m7\u001b[0m - \u001b[1mProcessing Community.txt\u001b[0m\n",
      "\u001b[32m2024-10-06 18:21:45.699\u001b[0m | \u001b[1mINFO    \u001b[0m | \u001b[36m__main__\u001b[0m:\u001b[36mprocess_file\u001b[0m:\u001b[36m12\u001b[0m - \u001b[1mProcessed 4023 rows. Output saved to ../chat_csv_files/Community.csv\u001b[0m\n",
      "\u001b[32m2024-10-06 18:21:45.699\u001b[0m | \u001b[1mINFO    \u001b[0m | \u001b[36m__main__\u001b[0m:\u001b[36mprocess_file\u001b[0m:\u001b[36m7\u001b[0m - \u001b[1mProcessing DeepMedia.txt\u001b[0m\n",
      "\u001b[32m2024-10-06 18:21:45.714\u001b[0m | \u001b[1mINFO    \u001b[0m | \u001b[36m__main__\u001b[0m:\u001b[36mprocess_file\u001b[0m:\u001b[36m12\u001b[0m - \u001b[1mProcessed 1455 rows. Output saved to ../chat_csv_files/DeepMedia.csv\u001b[0m\n",
      "\u001b[32m2024-10-06 18:21:45.715\u001b[0m | \u001b[1mINFO    \u001b[0m | \u001b[36m__main__\u001b[0m:\u001b[36mprocess_file\u001b[0m:\u001b[36m7\u001b[0m - \u001b[1mProcessing Main.txt\u001b[0m\n",
      "\u001b[32m2024-10-06 18:21:45.916\u001b[0m | \u001b[1mINFO    \u001b[0m | \u001b[36m__main__\u001b[0m:\u001b[36mprocess_file\u001b[0m:\u001b[36m12\u001b[0m - \u001b[1mProcessed 27607 rows. Output saved to ../chat_csv_files/Main.csv\u001b[0m\n",
      "\u001b[32m2024-10-06 18:21:45.917\u001b[0m | \u001b[1mINFO    \u001b[0m | \u001b[36m__main__\u001b[0m:\u001b[36mprocess_file\u001b[0m:\u001b[36m7\u001b[0m - \u001b[1mProcessing GPU.txt\u001b[0m\n",
      "\u001b[32m2024-10-06 18:21:45.943\u001b[0m | \u001b[1mINFO    \u001b[0m | \u001b[36m__main__\u001b[0m:\u001b[36mprocess_file\u001b[0m:\u001b[36m12\u001b[0m - \u001b[1mProcessed 3488 rows. Output saved to ../chat_csv_files/GPU.csv\u001b[0m\n",
      "\u001b[32m2024-10-06 18:21:45.944\u001b[0m | \u001b[1mINFO    \u001b[0m | \u001b[36m__main__\u001b[0m:\u001b[36mprocess_file\u001b[0m:\u001b[36m7\u001b[0m - \u001b[1mProcessing Creatives.txt\u001b[0m\n",
      "\u001b[32m2024-10-06 18:21:45.999\u001b[0m | \u001b[1mINFO    \u001b[0m | \u001b[36m__main__\u001b[0m:\u001b[36mprocess_file\u001b[0m:\u001b[36m12\u001b[0m - \u001b[1mProcessed 7983 rows. Output saved to ../chat_csv_files/Creatives.csv\u001b[0m\n"
     ]
    }
   ],
   "source": [
    "def process_file(input_file):\n",
    "    input_path = Path(input_file)\n",
    "    if not input_path.is_file() or input_path.suffix != \".txt\":\n",
    "        click.echo(f\"Error: {input_file} is not a valid .txt file\")\n",
    "        return\n",
    "\n",
    "    logger.info(f\"Processing {input_path.name}\")\n",
    "    df = extract_dataframe(input_path)\n",
    "    df[\"group_name\"] = input_path.stem\n",
    "    output_file = chat_csv_files / f\"{input_path.stem}.csv\"\n",
    "    df.to_csv(output_file, index=False)\n",
    "    logger.info(f\"Processed {len(df)} rows. Output saved to {output_file}\")\n",
    "\n",
    "\n",
    "for file in chat_text_files_path.ls():\n",
    "    process_file(file)"
   ]
  },
  {
   "cell_type": "code",
   "execution_count": 55,
   "metadata": {},
   "outputs": [
    {
     "data": {
      "text/html": [
       "<div>\n",
       "<style scoped>\n",
       "    .dataframe tbody tr th:only-of-type {\n",
       "        vertical-align: middle;\n",
       "    }\n",
       "\n",
       "    .dataframe tbody tr th {\n",
       "        vertical-align: top;\n",
       "    }\n",
       "\n",
       "    .dataframe thead th {\n",
       "        text-align: right;\n",
       "    }\n",
       "</style>\n",
       "<table border=\"1\" class=\"dataframe\">\n",
       "  <thead>\n",
       "    <tr style=\"text-align: right;\">\n",
       "      <th></th>\n",
       "      <th>Datetime</th>\n",
       "      <th>Sender</th>\n",
       "      <th>Message</th>\n",
       "      <th>group_name</th>\n",
       "    </tr>\n",
       "  </thead>\n",
       "  <tbody>\n",
       "    <tr>\n",
       "      <th>0</th>\n",
       "      <td>2023-07-04 10:40:22</td>\n",
       "      <td>AI for Creatives (artists, musicians, directo...</td>\n",
       "      <td>‎Messages and calls are end-to-end encrypted. ...</td>\n",
       "      <td>Creatives</td>\n",
       "    </tr>\n",
       "    <tr>\n",
       "      <th>1</th>\n",
       "      <td>2023-07-04 10:40:22</td>\n",
       "      <td>AI for Creatives (artists, musicians, directo...</td>\n",
       "      <td>‎You created group “AI for Creatives”</td>\n",
       "      <td>Creatives</td>\n",
       "    </tr>\n",
       "    <tr>\n",
       "      <th>2</th>\n",
       "      <td>2023-07-04 10:40:22</td>\n",
       "      <td>AI for Creatives (artists, musicians, directo...</td>\n",
       "      <td>‎New members need admin approval to join this ...</td>\n",
       "      <td>Creatives</td>\n",
       "    </tr>\n",
       "    <tr>\n",
       "      <th>3</th>\n",
       "      <td>2023-07-04 10:40:46</td>\n",
       "      <td>AI for Creatives (artists, musicians, directo...</td>\n",
       "      <td>‎You turned off admin approval to join this group</td>\n",
       "      <td>Creatives</td>\n",
       "    </tr>\n",
       "    <tr>\n",
       "      <th>4</th>\n",
       "      <td>2023-07-04 10:40:47</td>\n",
       "      <td>Divya Tak</td>\n",
       "      <td>Thanks!</td>\n",
       "      <td>Creatives</td>\n",
       "    </tr>\n",
       "  </tbody>\n",
       "</table>\n",
       "</div>"
      ],
      "text/plain": [
       "              Datetime                                             Sender  \\\n",
       "0  2023-07-04 10:40:22   AI for Creatives (artists, musicians, directo...   \n",
       "1  2023-07-04 10:40:22   AI for Creatives (artists, musicians, directo...   \n",
       "2  2023-07-04 10:40:22   AI for Creatives (artists, musicians, directo...   \n",
       "3  2023-07-04 10:40:46   AI for Creatives (artists, musicians, directo...   \n",
       "4  2023-07-04 10:40:47                                          Divya Tak   \n",
       "\n",
       "                                             Message group_name  \n",
       "0  ‎Messages and calls are end-to-end encrypted. ...  Creatives  \n",
       "1              ‎You created group “AI for Creatives”  Creatives  \n",
       "2  ‎New members need admin approval to join this ...  Creatives  \n",
       "3  ‎You turned off admin approval to join this group  Creatives  \n",
       "4                                            Thanks!  Creatives  "
      ]
     },
     "execution_count": 55,
     "metadata": {},
     "output_type": "execute_result"
    }
   ],
   "source": [
    "chat_csv_files = Path(\"../chat_csv_files\")\n",
    "\n",
    "combined_df = pd.concat(\n",
    "    [\n",
    "        pd.read_csv(file)\n",
    "        for file in chat_csv_files.ls()\n",
    "        if file.is_file() and file.suffix == \".csv\"\n",
    "    ]\n",
    ")\n",
    "combined_df.head()"
   ]
  },
  {
   "cell_type": "code",
   "execution_count": 56,
   "metadata": {},
   "outputs": [],
   "source": [
    "# Create an instance of the class using the uploaded CSV file\n",
    "analysis = WhatsAppGroupAnalysis(combined_df)\n",
    "\n",
    "# Test the methods\n",
    "current_users_df = analysis.get_current_users()\n",
    "message_count_in_window_df = analysis.get_message_count_in_window(60)\n",
    "# message_count_in_window_df"
   ]
  },
  {
   "cell_type": "code",
   "execution_count": 57,
   "metadata": {},
   "outputs": [
    {
     "data": {
      "text/plain": [
       "(                                   User\n",
       " 0                        ~ Apurva Bhatt\n",
       " 1                       ~ Shaurya Gupta\n",
       " 2                               ~ Tapan\n",
       " 3                    Nirmal GenAI group\n",
       " 4     Dr. Ashith Generative AI WA Group\n",
       " ..                                  ...\n",
       " 760                    ~ Prasanna/Vinay\n",
       " 761                      ~ Shreya Mandi\n",
       " 762                  ~ Amritansh Mishra\n",
       " 763                            ~ Palash\n",
       " 764                          ~ Anuruddh\n",
       " \n",
       " [765 rows x 1 columns],\n",
       " 765)"
      ]
     },
     "execution_count": 57,
     "metadata": {},
     "output_type": "execute_result"
    }
   ],
   "source": [
    "current_users_df"
   ]
  },
  {
   "cell_type": "code",
   "execution_count": 58,
   "metadata": {},
   "outputs": [],
   "source": [
    "inactive_users_to_remove = analysis.get_inactive_users(exclude_contacts=False)"
   ]
  },
  {
   "cell_type": "code",
   "execution_count": 59,
   "metadata": {},
   "outputs": [
    {
     "data": {
      "text/html": [
       "<div>\n",
       "<style scoped>\n",
       "    .dataframe tbody tr th:only-of-type {\n",
       "        vertical-align: middle;\n",
       "    }\n",
       "\n",
       "    .dataframe tbody tr th {\n",
       "        vertical-align: top;\n",
       "    }\n",
       "\n",
       "    .dataframe thead th {\n",
       "        text-align: right;\n",
       "    }\n",
       "</style>\n",
       "<table border=\"1\" class=\"dataframe\">\n",
       "  <thead>\n",
       "    <tr style=\"text-align: right;\">\n",
       "      <th></th>\n",
       "      <th>User</th>\n",
       "      <th>Message_Count_In_Window</th>\n",
       "      <th>Joining_Date</th>\n",
       "      <th>Total_Messages_Sent</th>\n",
       "      <th>Most_Recent_Message_Date</th>\n",
       "    </tr>\n",
       "  </thead>\n",
       "  <tbody>\n",
       "    <tr>\n",
       "      <th>57</th>\n",
       "      <td>~ Charlie</td>\n",
       "      <td>0.0</td>\n",
       "      <td>2023-04-19 01:38:54</td>\n",
       "      <td>1</td>\n",
       "      <td>2023-04-19 01:38:54</td>\n",
       "    </tr>\n",
       "    <tr>\n",
       "      <th>58</th>\n",
       "      <td>Saurab Paruthi</td>\n",
       "      <td>0.0</td>\n",
       "      <td>2023-04-30 12:58:57</td>\n",
       "      <td>1</td>\n",
       "      <td>2023-04-30 12:58:57</td>\n",
       "    </tr>\n",
       "    <tr>\n",
       "      <th>62</th>\n",
       "      <td>~ PARITOSH</td>\n",
       "      <td>0.0</td>\n",
       "      <td>2023-05-26 12:13:40</td>\n",
       "      <td>1</td>\n",
       "      <td>2023-05-26 12:13:40</td>\n",
       "    </tr>\n",
       "    <tr>\n",
       "      <th>63</th>\n",
       "      <td>~ Chandan</td>\n",
       "      <td>0.0</td>\n",
       "      <td>2023-05-27 11:21:30</td>\n",
       "      <td>1</td>\n",
       "      <td>2023-05-27 11:21:30</td>\n",
       "    </tr>\n",
       "    <tr>\n",
       "      <th>64</th>\n",
       "      <td>~ Ugam Kamat</td>\n",
       "      <td>0.0</td>\n",
       "      <td>2023-05-28 09:12:28</td>\n",
       "      <td>1</td>\n",
       "      <td>2023-05-28 09:12:28</td>\n",
       "    </tr>\n",
       "    <tr>\n",
       "      <th>...</th>\n",
       "      <td>...</td>\n",
       "      <td>...</td>\n",
       "      <td>...</td>\n",
       "      <td>...</td>\n",
       "      <td>...</td>\n",
       "    </tr>\n",
       "    <tr>\n",
       "      <th>230</th>\n",
       "      <td>~ Divyansh Tripathi</td>\n",
       "      <td>0.0</td>\n",
       "      <td>2024-03-09 13:47:33</td>\n",
       "      <td>5</td>\n",
       "      <td>2024-04-05 23:34:55</td>\n",
       "    </tr>\n",
       "    <tr>\n",
       "      <th>231</th>\n",
       "      <td>~ Rohit Joshi</td>\n",
       "      <td>0.0</td>\n",
       "      <td>2024-03-18 09:20:46</td>\n",
       "      <td>5</td>\n",
       "      <td>2024-03-22 12:06:42</td>\n",
       "    </tr>\n",
       "    <tr>\n",
       "      <th>248</th>\n",
       "      <td>~ Sreedevi</td>\n",
       "      <td>0.0</td>\n",
       "      <td>2024-03-31 16:55:53</td>\n",
       "      <td>5</td>\n",
       "      <td>2024-05-03 18:45:52</td>\n",
       "    </tr>\n",
       "    <tr>\n",
       "      <th>252</th>\n",
       "      <td>~ Charu</td>\n",
       "      <td>0.0</td>\n",
       "      <td>2024-04-07 11:53:09</td>\n",
       "      <td>5</td>\n",
       "      <td>2024-08-04 14:03:09</td>\n",
       "    </tr>\n",
       "    <tr>\n",
       "      <th>363</th>\n",
       "      <td>~ Shanthi Vardhan</td>\n",
       "      <td>0.0</td>\n",
       "      <td>2024-04-20 21:51:10</td>\n",
       "      <td>5</td>\n",
       "      <td>2024-04-20 21:51:10</td>\n",
       "    </tr>\n",
       "  </tbody>\n",
       "</table>\n",
       "<p>201 rows × 5 columns</p>\n",
       "</div>"
      ],
      "text/plain": [
       "                     User  Message_Count_In_Window        Joining_Date  \\\n",
       "57              ~ Charlie                      0.0 2023-04-19 01:38:54   \n",
       "58         Saurab Paruthi                      0.0 2023-04-30 12:58:57   \n",
       "62             ~ PARITOSH                      0.0 2023-05-26 12:13:40   \n",
       "63              ~ Chandan                      0.0 2023-05-27 11:21:30   \n",
       "64           ~ Ugam Kamat                      0.0 2023-05-28 09:12:28   \n",
       "..                    ...                      ...                 ...   \n",
       "230   ~ Divyansh Tripathi                      0.0 2024-03-09 13:47:33   \n",
       "231         ~ Rohit Joshi                      0.0 2024-03-18 09:20:46   \n",
       "248            ~ Sreedevi                      0.0 2024-03-31 16:55:53   \n",
       "252               ~ Charu                      0.0 2024-04-07 11:53:09   \n",
       "363     ~ Shanthi Vardhan                      0.0 2024-04-20 21:51:10   \n",
       "\n",
       "     Total_Messages_Sent Most_Recent_Message_Date  \n",
       "57                     1      2023-04-19 01:38:54  \n",
       "58                     1      2023-04-30 12:58:57  \n",
       "62                     1      2023-05-26 12:13:40  \n",
       "63                     1      2023-05-27 11:21:30  \n",
       "64                     1      2023-05-28 09:12:28  \n",
       "..                   ...                      ...  \n",
       "230                    5      2024-04-05 23:34:55  \n",
       "231                    5      2024-03-22 12:06:42  \n",
       "248                    5      2024-05-03 18:45:52  \n",
       "252                    5      2024-08-04 14:03:09  \n",
       "363                    5      2024-04-20 21:51:10  \n",
       "\n",
       "[201 rows x 5 columns]"
      ]
     },
     "execution_count": 59,
     "metadata": {},
     "output_type": "execute_result"
    }
   ],
   "source": [
    "# Sort by total messages sent and then by joining date\n",
    "inactive_users = inactive_users_to_remove.sort_values(\n",
    "    by=[\"Total_Messages_Sent\", \"Joining_Date\"], ascending=[True, True]\n",
    ")\n",
    "# Display the DataFrame\n",
    "inactive_users[:201]"
   ]
  },
  {
   "cell_type": "code",
   "execution_count": 60,
   "metadata": {},
   "outputs": [],
   "source": [
    "inactive_users.to_csv(\"inactive_users.csv\", index=False)"
   ]
  }
 ],
 "metadata": {
  "kernelspec": {
   "display_name": "Python 3 (ipykernel)",
   "language": "python",
   "name": "python3"
  },
  "language_info": {
   "codemirror_mode": {
    "name": "ipython",
    "version": 3
   },
   "file_extension": ".py",
   "mimetype": "text/x-python",
   "name": "python",
   "nbconvert_exporter": "python",
   "pygments_lexer": "ipython3",
   "version": "3.9.19"
  }
 },
 "nbformat": 4,
 "nbformat_minor": 4
}
