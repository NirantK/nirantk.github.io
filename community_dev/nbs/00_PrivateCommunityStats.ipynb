{
 "cells": [
  {
   "cell_type": "code",
   "execution_count": null,
   "id": "3b87d6a6",
   "metadata": {},
   "outputs": [],
   "source": [
    "import pandas as pd\n",
    "from pathlib import Path"
   ]
  },
  {
   "cell_type": "code",
   "execution_count": null,
   "id": "defca394",
   "metadata": {},
   "outputs": [],
   "source": [
    "df = pd.read_csv(\"../20231120_Messages.csv\", sep=\"|\")\n",
    "df.Datetime = pd.to_datetime(df.Datetime)"
   ]
  },
  {
   "cell_type": "code",
   "execution_count": null,
   "id": "00e5db26",
   "metadata": {},
   "outputs": [],
   "source": [
    "def top_k_senders(df, freq, k=5):\n",
    "    # Resample and count the number of messages per sender\n",
    "    resampled = df.groupby(\"Sender\").resample(freq).count()\n",
    "\n",
    "    # Sort and group by the period (week or month)\n",
    "    sorted_grouped = (\n",
    "        resampled[\"Message\"]\n",
    "        .reset_index()\n",
    "        .sort_values([\"Datetime\", \"Message\"], ascending=[True, False])\n",
    "        .groupby(\"Datetime\")\n",
    "    )\n",
    "\n",
    "    # Get the top K senders for each period\n",
    "    top_senders = sorted_grouped.head(k)\n",
    "\n",
    "    return top_senders\n",
    "\n",
    "\n",
    "top_df = df.set_index('Datetime')\n",
    "# Top K senders per week\n",
    "k = 6\n",
    "top_senders_weekly = top_k_senders(top_df, \"W\", k)\n",
    "print(f\"Top {k} senders per week:\")\n",
    "display(top_senders_weekly[-20:])"
   ]
  },
  {
   "cell_type": "code",
   "execution_count": null,
   "id": "72e0cf25",
   "metadata": {},
   "outputs": [],
   "source": [
    "# Top K senders per month\n",
    "top_senders_monthly = top_k_senders(top_df, \"M\", k)\n",
    "print(f\"\\nTop {k} senders per month:\")\n",
    "top_senders_monthly"
   ]
  },
  {
   "cell_type": "code",
   "execution_count": null,
   "id": "6ce05885",
   "metadata": {},
   "outputs": [],
   "source": [
    "df.columns\n",
    "from datetime import timedelta"
   ]
  },
  {
   "cell_type": "code",
   "execution_count": null,
   "id": "f8bd654a",
   "metadata": {},
   "outputs": [],
   "source": [
    "# Assuming 'df' is the DataFrame with the columns 'Sender', 'Datetime', and 'Message'\n",
    "# Make sure the 'Datetime' column is set as the index\n",
    "df = pd.read_csv(\"../20231120_Messages.csv\", sep=\"|\")\n",
    "df.Datetime = pd.to_datetime(df.Datetime)\n",
    "\n",
    "df.set_index(\"Datetime\", inplace=True)\n",
    "df.sort_index(inplace=True)\n",
    "\n",
    "# Resample DataFrame to a weekly frequency\n",
    "weekly_data = df.resample(\"M\").count()\n",
    "\n",
    "# Initialize lists to store the results\n",
    "new_senders = []\n",
    "active_senders = []\n",
    "churned_senders = []\n",
    "\n",
    "# Initialize sets for active and churned senders\n",
    "current_senders = set()\n",
    "previous_senders = set()\n",
    "churned = set()\n",
    "\n",
    "# Time window to consider a sender as churned (21 days)\n",
    "churn_window = timedelta(days=21)\n",
    "\n",
    "# Iterate through each week\n",
    "for week in weekly_data.index:\n",
    "    # Get the data for the current week\n",
    "    current_week_data = df.truncate(\n",
    "        before=week - timedelta(weeks=1) + timedelta(seconds=1), after=week\n",
    "    )\n",
    "\n",
    "    # Calculate new, active, and churned senders for the current week\n",
    "    new_senders_count = 0\n",
    "    active_senders_count = 0\n",
    "    churned_senders_count = 0\n",
    "\n",
    "    for sender in current_week_data[\"Sender\"].unique():\n",
    "        # Check if the sender is new\n",
    "        if sender not in current_senders and sender not in previous_senders:\n",
    "            new_senders_count += 1\n",
    "            current_senders.add(sender)\n",
    "\n",
    "        # Check if the sender is active\n",
    "        if sender in current_senders or sender in previous_senders:\n",
    "            active_senders_count += 1\n",
    "            current_senders.add(sender)\n",
    "\n",
    "    # Update churned senders\n",
    "    for sender in previous_senders:\n",
    "        if (\n",
    "            sender not in current_senders\n",
    "            and (week - df[df[\"Sender\"] == sender].index[-1]) > churn_window\n",
    "        ):\n",
    "            churned.add(sender)\n",
    "\n",
    "    # Store the results in the lists\n",
    "    new_senders.append(new_senders_count)\n",
    "    active_senders.append(active_senders_count)\n",
    "    churned_senders.append(len(churned))\n",
    "\n",
    "    # Update previous_senders for the next iteration\n",
    "    previous_senders.update(current_senders)\n",
    "    current_senders.clear()\n",
    "\n",
    "# Create a DataFrame with the results\n",
    "result_df = pd.DataFrame(\n",
    "    {\n",
    "        \"Date\": weekly_data.index,\n",
    "        \"New Senders\": new_senders,\n",
    "        \"Active Senders\": active_senders,\n",
    "        \"Churned Senders\": churned_senders,\n",
    "    }\n",
    ")\n",
    "result_df.set_index(\"Date\", inplace=True)"
   ]
  },
  {
   "cell_type": "code",
   "execution_count": null,
   "id": "497bae9d",
   "metadata": {},
   "outputs": [],
   "source": [
    "display(result_df[-6:])\n",
    "# display(result_df.style.hide(axis=\"index\"))"
   ]
  },
  {
   "cell_type": "code",
   "execution_count": null,
   "metadata": {},
   "outputs": [],
   "source": [
    "import seaborn as sns\n",
    "import matplotlib.pyplot as plt\n",
    "\n",
    "# Plot the active senders for each week\n",
    "sns.barplot(x=result_df.index, y=result_df['Active Senders'])\n",
    "plt.xlabel('Week')\n",
    "plt.ylabel('Active Senders')\n",
    "plt.title('Active Senders per Month')\n",
    "plt.xticks(rotation=45)\n",
    "plt.show()\n"
   ]
  }
 ],
 "metadata": {
  "kernelspec": {
   "display_name": "Python 3 (ipykernel)",
   "language": "python",
   "name": "python3"
  },
  "language_info": {
   "codemirror_mode": {
    "name": "ipython",
    "version": 3
   },
   "file_extension": ".py",
   "mimetype": "text/x-python",
   "name": "python",
   "nbconvert_exporter": "python",
   "pygments_lexer": "ipython3",
   "version": "3.9.17"
  }
 },
 "nbformat": 4,
 "nbformat_minor": 5
}
