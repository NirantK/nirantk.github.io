{
 "cells": [
  {
   "cell_type": "code",
   "execution_count": 1,
   "metadata": {},
   "outputs": [
    {
     "name": "stdout",
     "output_type": "stream",
     "text": [
      "Requirement already satisfied: qdrant-client in /opt/homebrew/Caskroom/miniconda/base/envs/fst/lib/python3.9/site-packages (1.6.3)\n",
      "Requirement already satisfied: grpcio>=1.41.0 in /opt/homebrew/Caskroom/miniconda/base/envs/fst/lib/python3.9/site-packages (from qdrant-client) (1.57.0)\n",
      "Requirement already satisfied: grpcio-tools>=1.41.0 in /opt/homebrew/Caskroom/miniconda/base/envs/fst/lib/python3.9/site-packages (from qdrant-client) (1.57.0)\n",
      "Requirement already satisfied: httpx[http2]>=0.14.0 in /opt/homebrew/Caskroom/miniconda/base/envs/fst/lib/python3.9/site-packages (from qdrant-client) (0.24.1)\n",
      "Requirement already satisfied: numpy>=1.21 in /opt/homebrew/Caskroom/miniconda/base/envs/fst/lib/python3.9/site-packages (from qdrant-client) (1.23.4)\n",
      "Requirement already satisfied: portalocker<3.0.0,>=2.7.0 in /opt/homebrew/Caskroom/miniconda/base/envs/fst/lib/python3.9/site-packages (from qdrant-client) (2.7.0)\n",
      "Requirement already satisfied: pydantic>=1.10.8 in /opt/homebrew/Caskroom/miniconda/base/envs/fst/lib/python3.9/site-packages (from qdrant-client) (1.10.12)\n",
      "Requirement already satisfied: urllib3<2.0.0,>=1.26.14 in /opt/homebrew/Caskroom/miniconda/base/envs/fst/lib/python3.9/site-packages (from qdrant-client) (1.26.16)\n",
      "Requirement already satisfied: protobuf<5.0dev,>=4.21.6 in /opt/homebrew/Caskroom/miniconda/base/envs/fst/lib/python3.9/site-packages (from grpcio-tools>=1.41.0->qdrant-client) (4.24.3)\n",
      "Requirement already satisfied: setuptools in /opt/homebrew/Caskroom/miniconda/base/envs/fst/lib/python3.9/site-packages (from grpcio-tools>=1.41.0->qdrant-client) (64.0.2)\n",
      "Requirement already satisfied: certifi in /opt/homebrew/Caskroom/miniconda/base/envs/fst/lib/python3.9/site-packages (from httpx[http2]>=0.14.0->qdrant-client) (2023.5.7)\n",
      "Requirement already satisfied: httpcore<0.18.0,>=0.15.0 in /opt/homebrew/Caskroom/miniconda/base/envs/fst/lib/python3.9/site-packages (from httpx[http2]>=0.14.0->qdrant-client) (0.17.3)\n",
      "Requirement already satisfied: idna in /opt/homebrew/Caskroom/miniconda/base/envs/fst/lib/python3.9/site-packages (from httpx[http2]>=0.14.0->qdrant-client) (3.4)\n",
      "Requirement already satisfied: sniffio in /opt/homebrew/Caskroom/miniconda/base/envs/fst/lib/python3.9/site-packages (from httpx[http2]>=0.14.0->qdrant-client) (1.3.0)\n",
      "Requirement already satisfied: h2<5,>=3 in /opt/homebrew/Caskroom/miniconda/base/envs/fst/lib/python3.9/site-packages (from httpx[http2]>=0.14.0->qdrant-client) (4.1.0)\n",
      "Requirement already satisfied: typing-extensions>=4.2.0 in /opt/homebrew/Caskroom/miniconda/base/envs/fst/lib/python3.9/site-packages (from pydantic>=1.10.8->qdrant-client) (4.7.1)\n",
      "Requirement already satisfied: hyperframe<7,>=6.0 in /opt/homebrew/Caskroom/miniconda/base/envs/fst/lib/python3.9/site-packages (from h2<5,>=3->httpx[http2]>=0.14.0->qdrant-client) (6.0.1)\n",
      "Requirement already satisfied: hpack<5,>=4.0 in /opt/homebrew/Caskroom/miniconda/base/envs/fst/lib/python3.9/site-packages (from h2<5,>=3->httpx[http2]>=0.14.0->qdrant-client) (4.0.0)\n",
      "Requirement already satisfied: h11<0.15,>=0.13 in /opt/homebrew/Caskroom/miniconda/base/envs/fst/lib/python3.9/site-packages (from httpcore<0.18.0,>=0.15.0->httpx[http2]>=0.14.0->qdrant-client) (0.14.0)\n",
      "Requirement already satisfied: anyio<5.0,>=3.0 in /opt/homebrew/Caskroom/miniconda/base/envs/fst/lib/python3.9/site-packages (from httpcore<0.18.0,>=0.15.0->httpx[http2]>=0.14.0->qdrant-client) (3.7.1)\n",
      "Requirement already satisfied: exceptiongroup in /opt/homebrew/Caskroom/miniconda/base/envs/fst/lib/python3.9/site-packages (from anyio<5.0,>=3.0->httpcore<0.18.0,>=0.15.0->httpx[http2]>=0.14.0->qdrant-client) (1.1.3)\n"
     ]
    }
   ],
   "source": [
    "!pip install -U qdrant-client"
   ]
  },
  {
   "cell_type": "code",
   "execution_count": 2,
   "metadata": {},
   "outputs": [
    {
     "data": {
      "text/plain": [
       "True"
      ]
     },
     "execution_count": 2,
     "metadata": {},
     "output_type": "execute_result"
    }
   ],
   "source": [
    "from qdrant_client import QdrantClient\n",
    "from qdrant_client.http import models\n",
    "client = QdrantClient(\":memory:\")\n",
    "collection_name = \"demo_collection\"\n",
    "client.recreate_collection(\n",
    "    collection_name=collection_name,\n",
    "    vectors_config=models.VectorParams(size=4, distance=models.Distance.COSINE),\n",
    ")"
   ]
  },
  {
   "cell_type": "code",
   "execution_count": 3,
   "metadata": {},
   "outputs": [
    {
     "data": {
      "text/plain": [
       "UpdateResult(operation_id=0, status=<UpdateStatus.COMPLETED: 'completed'>)"
      ]
     },
     "execution_count": 3,
     "metadata": {},
     "output_type": "execute_result"
    }
   ],
   "source": [
    "client.upsert(\n",
    "    collection_name=collection_name,\n",
    "    points=[\n",
    "        models.PointStruct(\n",
    "            id=1,\n",
    "            vector=[0.05, 0.61, 0.76, 0.74],\n",
    "            payload={\n",
    "                \"city\": \"Berlin\", \n",
    "                \"price\": 1.99,\n",
    "            },\n",
    "        ),\n",
    "        models.PointStruct(\n",
    "            id=2,\n",
    "            vector=[0.19, 0.81, 0.75, 0.11],\n",
    "            payload={\n",
    "                \"city\": [\"Berlin\", \"London\"], \n",
    "                \"price\": 1.99,\n",
    "            },\n",
    "        ),\n",
    "        models.PointStruct(\n",
    "            id=3,\n",
    "            vector=[0.36, 0.55, 0.47, 0.94],\n",
    "            payload={\n",
    "                \"city\": [\"Berlin\", \"Moscow\"], \n",
    "                \"price\": [1.99, 2.99],\n",
    "            },\n",
    "        ),\n",
    "    ]\n",
    ")"
   ]
  },
  {
   "cell_type": "code",
   "execution_count": 7,
   "metadata": {},
   "outputs": [
    {
     "data": {
      "text/plain": [
       "[ScoredPoint(id=2, version=0, score=0.6660352808733915, payload={'city': ['Berlin', 'London'], 'price': 1.99}, vector=None)]"
      ]
     },
     "execution_count": 7,
     "metadata": {},
     "output_type": "execute_result"
    }
   ],
   "source": [
    "client.search(\n",
    "    collection_name=collection_name,\n",
    "    query_filter=models.Filter(\n",
    "        must=[\n",
    "            models.FieldCondition(\n",
    "                key=\"city\",\n",
    "                match=models.MatchValue(\n",
    "                    value=\"London\",\n",
    "                ),\n",
    "            )\n",
    "        ]\n",
    "    ),\n",
    "    query_vector=[0.2, 0.1, 0.9, 0.7]\n",
    ")"
   ]
  },
  {
   "cell_type": "code",
   "execution_count": 12,
   "metadata": {},
   "outputs": [
    {
     "data": {
      "text/plain": [
       "[ScoredPoint(id=1, version=0, score=0.8946329315113456, payload={'city': 'Berlin', 'price': 1.99}, vector=None),\n",
       " ScoredPoint(id=3, version=0, score=0.8387250995794813, payload={'city': ['Berlin', 'Moscow'], 'price': [1.99, 2.99]}, vector=None),\n",
       " ScoredPoint(id=2, version=0, score=0.6660352808733915, payload={'city': ['Berlin', 'London'], 'price': 1.99}, vector=None)]"
      ]
     },
     "execution_count": 12,
     "metadata": {},
     "output_type": "execute_result"
    }
   ],
   "source": [
    "client.search(\n",
    "    collection_name=collection_name,\n",
    "    query_filter=models.Filter(\n",
    "        must=[\n",
    "            models.FieldCondition(\n",
    "                key=\"city\",\n",
    "                match=models.MatchAny(any=[\"Berlin\"]),\n",
    "            )\n",
    "        ]\n",
    "    ),\n",
    "    query_vector=[0.2, 0.1, 0.9, 0.7], \n",
    "    limit=3\n",
    ")"
   ]
  },
  {
   "cell_type": "code",
   "execution_count": null,
   "metadata": {},
   "outputs": [],
   "source": []
  }
 ],
 "metadata": {
  "kernelspec": {
   "display_name": "fst",
   "language": "python",
   "name": "python3"
  },
  "language_info": {
   "codemirror_mode": {
    "name": "ipython",
    "version": 3
   },
   "file_extension": ".py",
   "mimetype": "text/x-python",
   "name": "python",
   "nbconvert_exporter": "python",
   "pygments_lexer": "ipython3",
   "version": "3.9.17"
  }
 },
 "nbformat": 4,
 "nbformat_minor": 2
}
